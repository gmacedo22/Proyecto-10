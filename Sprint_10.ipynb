{
 "cells": [
  {
   "cell_type": "markdown",
   "metadata": {},
   "source": [
    "# Proyecto 10"
   ]
  },
  {
   "cell_type": "markdown",
   "metadata": {},
   "source": [
    "## Importacion de librerias"
   ]
  },
  {
   "cell_type": "code",
   "execution_count": 1,
   "metadata": {},
   "outputs": [],
   "source": [
    "import pandas as pd\n",
    "from sklearn.model_selection import train_test_split\n",
    "from sklearn.ensemble import RandomForestClassifier\n",
    "from sklearn.utils import shuffle\n",
    "from sklearn.metrics import f1_score\n",
    "from sklearn.preprocessing import OrdinalEncoder\n",
    "from sklearn.preprocessing import StandardScaler\n",
    "from sklearn.metrics import roc_auc_score\n",
    "from sklearn.metrics import roc_curve\n",
    "import matplotlib.pyplot as plt\n"
   ]
  },
  {
   "cell_type": "markdown",
   "metadata": {},
   "source": [
    "## Lectura de DataFrames"
   ]
  },
  {
   "cell_type": "code",
   "execution_count": 2,
   "metadata": {},
   "outputs": [],
   "source": [
    "data = pd.read_csv('/datasets/Churn.csv')"
   ]
  },
  {
   "cell_type": "code",
   "execution_count": 3,
   "metadata": {
    "scrolled": true
   },
   "outputs": [
    {
     "name": "stdout",
     "output_type": "stream",
     "text": [
      "<class 'pandas.core.frame.DataFrame'>\n",
      "RangeIndex: 10000 entries, 0 to 9999\n",
      "Data columns (total 14 columns):\n",
      " #   Column           Non-Null Count  Dtype  \n",
      "---  ------           --------------  -----  \n",
      " 0   RowNumber        10000 non-null  int64  \n",
      " 1   CustomerId       10000 non-null  int64  \n",
      " 2   Surname          10000 non-null  object \n",
      " 3   CreditScore      10000 non-null  int64  \n",
      " 4   Geography        10000 non-null  object \n",
      " 5   Gender           10000 non-null  object \n",
      " 6   Age              10000 non-null  int64  \n",
      " 7   Tenure           9091 non-null   float64\n",
      " 8   Balance          10000 non-null  float64\n",
      " 9   NumOfProducts    10000 non-null  int64  \n",
      " 10  HasCrCard        10000 non-null  int64  \n",
      " 11  IsActiveMember   10000 non-null  int64  \n",
      " 12  EstimatedSalary  10000 non-null  float64\n",
      " 13  Exited           10000 non-null  int64  \n",
      "dtypes: float64(3), int64(8), object(3)\n",
      "memory usage: 1.1+ MB\n"
     ]
    }
   ],
   "source": [
    "data.info()"
   ]
  },
  {
   "cell_type": "code",
   "execution_count": 4,
   "metadata": {},
   "outputs": [
    {
     "data": {
      "text/html": [
       "<div>\n",
       "<style scoped>\n",
       "    .dataframe tbody tr th:only-of-type {\n",
       "        vertical-align: middle;\n",
       "    }\n",
       "\n",
       "    .dataframe tbody tr th {\n",
       "        vertical-align: top;\n",
       "    }\n",
       "\n",
       "    .dataframe thead th {\n",
       "        text-align: right;\n",
       "    }\n",
       "</style>\n",
       "<table border=\"1\" class=\"dataframe\">\n",
       "  <thead>\n",
       "    <tr style=\"text-align: right;\">\n",
       "      <th></th>\n",
       "      <th>RowNumber</th>\n",
       "      <th>CustomerId</th>\n",
       "      <th>CreditScore</th>\n",
       "      <th>Age</th>\n",
       "      <th>Tenure</th>\n",
       "      <th>Balance</th>\n",
       "      <th>NumOfProducts</th>\n",
       "      <th>HasCrCard</th>\n",
       "      <th>IsActiveMember</th>\n",
       "      <th>EstimatedSalary</th>\n",
       "      <th>Exited</th>\n",
       "    </tr>\n",
       "  </thead>\n",
       "  <tbody>\n",
       "    <tr>\n",
       "      <th>count</th>\n",
       "      <td>10000.00000</td>\n",
       "      <td>1.000000e+04</td>\n",
       "      <td>10000.000000</td>\n",
       "      <td>10000.000000</td>\n",
       "      <td>9091.000000</td>\n",
       "      <td>10000.000000</td>\n",
       "      <td>10000.000000</td>\n",
       "      <td>10000.00000</td>\n",
       "      <td>10000.000000</td>\n",
       "      <td>10000.000000</td>\n",
       "      <td>10000.000000</td>\n",
       "    </tr>\n",
       "    <tr>\n",
       "      <th>mean</th>\n",
       "      <td>5000.50000</td>\n",
       "      <td>1.569094e+07</td>\n",
       "      <td>650.528800</td>\n",
       "      <td>38.921800</td>\n",
       "      <td>4.997690</td>\n",
       "      <td>76485.889288</td>\n",
       "      <td>1.530200</td>\n",
       "      <td>0.70550</td>\n",
       "      <td>0.515100</td>\n",
       "      <td>100090.239881</td>\n",
       "      <td>0.203700</td>\n",
       "    </tr>\n",
       "    <tr>\n",
       "      <th>std</th>\n",
       "      <td>2886.89568</td>\n",
       "      <td>7.193619e+04</td>\n",
       "      <td>96.653299</td>\n",
       "      <td>10.487806</td>\n",
       "      <td>2.894723</td>\n",
       "      <td>62397.405202</td>\n",
       "      <td>0.581654</td>\n",
       "      <td>0.45584</td>\n",
       "      <td>0.499797</td>\n",
       "      <td>57510.492818</td>\n",
       "      <td>0.402769</td>\n",
       "    </tr>\n",
       "    <tr>\n",
       "      <th>min</th>\n",
       "      <td>1.00000</td>\n",
       "      <td>1.556570e+07</td>\n",
       "      <td>350.000000</td>\n",
       "      <td>18.000000</td>\n",
       "      <td>0.000000</td>\n",
       "      <td>0.000000</td>\n",
       "      <td>1.000000</td>\n",
       "      <td>0.00000</td>\n",
       "      <td>0.000000</td>\n",
       "      <td>11.580000</td>\n",
       "      <td>0.000000</td>\n",
       "    </tr>\n",
       "    <tr>\n",
       "      <th>25%</th>\n",
       "      <td>2500.75000</td>\n",
       "      <td>1.562853e+07</td>\n",
       "      <td>584.000000</td>\n",
       "      <td>32.000000</td>\n",
       "      <td>2.000000</td>\n",
       "      <td>0.000000</td>\n",
       "      <td>1.000000</td>\n",
       "      <td>0.00000</td>\n",
       "      <td>0.000000</td>\n",
       "      <td>51002.110000</td>\n",
       "      <td>0.000000</td>\n",
       "    </tr>\n",
       "    <tr>\n",
       "      <th>50%</th>\n",
       "      <td>5000.50000</td>\n",
       "      <td>1.569074e+07</td>\n",
       "      <td>652.000000</td>\n",
       "      <td>37.000000</td>\n",
       "      <td>5.000000</td>\n",
       "      <td>97198.540000</td>\n",
       "      <td>1.000000</td>\n",
       "      <td>1.00000</td>\n",
       "      <td>1.000000</td>\n",
       "      <td>100193.915000</td>\n",
       "      <td>0.000000</td>\n",
       "    </tr>\n",
       "    <tr>\n",
       "      <th>75%</th>\n",
       "      <td>7500.25000</td>\n",
       "      <td>1.575323e+07</td>\n",
       "      <td>718.000000</td>\n",
       "      <td>44.000000</td>\n",
       "      <td>7.000000</td>\n",
       "      <td>127644.240000</td>\n",
       "      <td>2.000000</td>\n",
       "      <td>1.00000</td>\n",
       "      <td>1.000000</td>\n",
       "      <td>149388.247500</td>\n",
       "      <td>0.000000</td>\n",
       "    </tr>\n",
       "    <tr>\n",
       "      <th>max</th>\n",
       "      <td>10000.00000</td>\n",
       "      <td>1.581569e+07</td>\n",
       "      <td>850.000000</td>\n",
       "      <td>92.000000</td>\n",
       "      <td>10.000000</td>\n",
       "      <td>250898.090000</td>\n",
       "      <td>4.000000</td>\n",
       "      <td>1.00000</td>\n",
       "      <td>1.000000</td>\n",
       "      <td>199992.480000</td>\n",
       "      <td>1.000000</td>\n",
       "    </tr>\n",
       "  </tbody>\n",
       "</table>\n",
       "</div>"
      ],
      "text/plain": [
       "         RowNumber    CustomerId   CreditScore           Age       Tenure  \\\n",
       "count  10000.00000  1.000000e+04  10000.000000  10000.000000  9091.000000   \n",
       "mean    5000.50000  1.569094e+07    650.528800     38.921800     4.997690   \n",
       "std     2886.89568  7.193619e+04     96.653299     10.487806     2.894723   \n",
       "min        1.00000  1.556570e+07    350.000000     18.000000     0.000000   \n",
       "25%     2500.75000  1.562853e+07    584.000000     32.000000     2.000000   \n",
       "50%     5000.50000  1.569074e+07    652.000000     37.000000     5.000000   \n",
       "75%     7500.25000  1.575323e+07    718.000000     44.000000     7.000000   \n",
       "max    10000.00000  1.581569e+07    850.000000     92.000000    10.000000   \n",
       "\n",
       "             Balance  NumOfProducts    HasCrCard  IsActiveMember  \\\n",
       "count   10000.000000   10000.000000  10000.00000    10000.000000   \n",
       "mean    76485.889288       1.530200      0.70550        0.515100   \n",
       "std     62397.405202       0.581654      0.45584        0.499797   \n",
       "min         0.000000       1.000000      0.00000        0.000000   \n",
       "25%         0.000000       1.000000      0.00000        0.000000   \n",
       "50%     97198.540000       1.000000      1.00000        1.000000   \n",
       "75%    127644.240000       2.000000      1.00000        1.000000   \n",
       "max    250898.090000       4.000000      1.00000        1.000000   \n",
       "\n",
       "       EstimatedSalary        Exited  \n",
       "count     10000.000000  10000.000000  \n",
       "mean     100090.239881      0.203700  \n",
       "std       57510.492818      0.402769  \n",
       "min          11.580000      0.000000  \n",
       "25%       51002.110000      0.000000  \n",
       "50%      100193.915000      0.000000  \n",
       "75%      149388.247500      0.000000  \n",
       "max      199992.480000      1.000000  "
      ]
     },
     "execution_count": 4,
     "metadata": {},
     "output_type": "execute_result"
    }
   ],
   "source": [
    "data.describe()"
   ]
  },
  {
   "cell_type": "code",
   "execution_count": 5,
   "metadata": {},
   "outputs": [
    {
     "data": {
      "text/html": [
       "<div>\n",
       "<style scoped>\n",
       "    .dataframe tbody tr th:only-of-type {\n",
       "        vertical-align: middle;\n",
       "    }\n",
       "\n",
       "    .dataframe tbody tr th {\n",
       "        vertical-align: top;\n",
       "    }\n",
       "\n",
       "    .dataframe thead th {\n",
       "        text-align: right;\n",
       "    }\n",
       "</style>\n",
       "<table border=\"1\" class=\"dataframe\">\n",
       "  <thead>\n",
       "    <tr style=\"text-align: right;\">\n",
       "      <th></th>\n",
       "      <th>RowNumber</th>\n",
       "      <th>CustomerId</th>\n",
       "      <th>Surname</th>\n",
       "      <th>CreditScore</th>\n",
       "      <th>Geography</th>\n",
       "      <th>Gender</th>\n",
       "      <th>Age</th>\n",
       "      <th>Tenure</th>\n",
       "      <th>Balance</th>\n",
       "      <th>NumOfProducts</th>\n",
       "      <th>HasCrCard</th>\n",
       "      <th>IsActiveMember</th>\n",
       "      <th>EstimatedSalary</th>\n",
       "      <th>Exited</th>\n",
       "    </tr>\n",
       "  </thead>\n",
       "  <tbody>\n",
       "    <tr>\n",
       "      <th>0</th>\n",
       "      <td>1</td>\n",
       "      <td>15634602</td>\n",
       "      <td>Hargrave</td>\n",
       "      <td>619</td>\n",
       "      <td>France</td>\n",
       "      <td>Female</td>\n",
       "      <td>42</td>\n",
       "      <td>2.0</td>\n",
       "      <td>0.00</td>\n",
       "      <td>1</td>\n",
       "      <td>1</td>\n",
       "      <td>1</td>\n",
       "      <td>101348.88</td>\n",
       "      <td>1</td>\n",
       "    </tr>\n",
       "    <tr>\n",
       "      <th>1</th>\n",
       "      <td>2</td>\n",
       "      <td>15647311</td>\n",
       "      <td>Hill</td>\n",
       "      <td>608</td>\n",
       "      <td>Spain</td>\n",
       "      <td>Female</td>\n",
       "      <td>41</td>\n",
       "      <td>1.0</td>\n",
       "      <td>83807.86</td>\n",
       "      <td>1</td>\n",
       "      <td>0</td>\n",
       "      <td>1</td>\n",
       "      <td>112542.58</td>\n",
       "      <td>0</td>\n",
       "    </tr>\n",
       "    <tr>\n",
       "      <th>2</th>\n",
       "      <td>3</td>\n",
       "      <td>15619304</td>\n",
       "      <td>Onio</td>\n",
       "      <td>502</td>\n",
       "      <td>France</td>\n",
       "      <td>Female</td>\n",
       "      <td>42</td>\n",
       "      <td>8.0</td>\n",
       "      <td>159660.80</td>\n",
       "      <td>3</td>\n",
       "      <td>1</td>\n",
       "      <td>0</td>\n",
       "      <td>113931.57</td>\n",
       "      <td>1</td>\n",
       "    </tr>\n",
       "    <tr>\n",
       "      <th>3</th>\n",
       "      <td>4</td>\n",
       "      <td>15701354</td>\n",
       "      <td>Boni</td>\n",
       "      <td>699</td>\n",
       "      <td>France</td>\n",
       "      <td>Female</td>\n",
       "      <td>39</td>\n",
       "      <td>1.0</td>\n",
       "      <td>0.00</td>\n",
       "      <td>2</td>\n",
       "      <td>0</td>\n",
       "      <td>0</td>\n",
       "      <td>93826.63</td>\n",
       "      <td>0</td>\n",
       "    </tr>\n",
       "    <tr>\n",
       "      <th>4</th>\n",
       "      <td>5</td>\n",
       "      <td>15737888</td>\n",
       "      <td>Mitchell</td>\n",
       "      <td>850</td>\n",
       "      <td>Spain</td>\n",
       "      <td>Female</td>\n",
       "      <td>43</td>\n",
       "      <td>2.0</td>\n",
       "      <td>125510.82</td>\n",
       "      <td>1</td>\n",
       "      <td>1</td>\n",
       "      <td>1</td>\n",
       "      <td>79084.10</td>\n",
       "      <td>0</td>\n",
       "    </tr>\n",
       "    <tr>\n",
       "      <th>...</th>\n",
       "      <td>...</td>\n",
       "      <td>...</td>\n",
       "      <td>...</td>\n",
       "      <td>...</td>\n",
       "      <td>...</td>\n",
       "      <td>...</td>\n",
       "      <td>...</td>\n",
       "      <td>...</td>\n",
       "      <td>...</td>\n",
       "      <td>...</td>\n",
       "      <td>...</td>\n",
       "      <td>...</td>\n",
       "      <td>...</td>\n",
       "      <td>...</td>\n",
       "    </tr>\n",
       "    <tr>\n",
       "      <th>9995</th>\n",
       "      <td>9996</td>\n",
       "      <td>15606229</td>\n",
       "      <td>Obijiaku</td>\n",
       "      <td>771</td>\n",
       "      <td>France</td>\n",
       "      <td>Male</td>\n",
       "      <td>39</td>\n",
       "      <td>5.0</td>\n",
       "      <td>0.00</td>\n",
       "      <td>2</td>\n",
       "      <td>1</td>\n",
       "      <td>0</td>\n",
       "      <td>96270.64</td>\n",
       "      <td>0</td>\n",
       "    </tr>\n",
       "    <tr>\n",
       "      <th>9996</th>\n",
       "      <td>9997</td>\n",
       "      <td>15569892</td>\n",
       "      <td>Johnstone</td>\n",
       "      <td>516</td>\n",
       "      <td>France</td>\n",
       "      <td>Male</td>\n",
       "      <td>35</td>\n",
       "      <td>10.0</td>\n",
       "      <td>57369.61</td>\n",
       "      <td>1</td>\n",
       "      <td>1</td>\n",
       "      <td>1</td>\n",
       "      <td>101699.77</td>\n",
       "      <td>0</td>\n",
       "    </tr>\n",
       "    <tr>\n",
       "      <th>9997</th>\n",
       "      <td>9998</td>\n",
       "      <td>15584532</td>\n",
       "      <td>Liu</td>\n",
       "      <td>709</td>\n",
       "      <td>France</td>\n",
       "      <td>Female</td>\n",
       "      <td>36</td>\n",
       "      <td>7.0</td>\n",
       "      <td>0.00</td>\n",
       "      <td>1</td>\n",
       "      <td>0</td>\n",
       "      <td>1</td>\n",
       "      <td>42085.58</td>\n",
       "      <td>1</td>\n",
       "    </tr>\n",
       "    <tr>\n",
       "      <th>9998</th>\n",
       "      <td>9999</td>\n",
       "      <td>15682355</td>\n",
       "      <td>Sabbatini</td>\n",
       "      <td>772</td>\n",
       "      <td>Germany</td>\n",
       "      <td>Male</td>\n",
       "      <td>42</td>\n",
       "      <td>3.0</td>\n",
       "      <td>75075.31</td>\n",
       "      <td>2</td>\n",
       "      <td>1</td>\n",
       "      <td>0</td>\n",
       "      <td>92888.52</td>\n",
       "      <td>1</td>\n",
       "    </tr>\n",
       "    <tr>\n",
       "      <th>9999</th>\n",
       "      <td>10000</td>\n",
       "      <td>15628319</td>\n",
       "      <td>Walker</td>\n",
       "      <td>792</td>\n",
       "      <td>France</td>\n",
       "      <td>Female</td>\n",
       "      <td>28</td>\n",
       "      <td>NaN</td>\n",
       "      <td>130142.79</td>\n",
       "      <td>1</td>\n",
       "      <td>1</td>\n",
       "      <td>0</td>\n",
       "      <td>38190.78</td>\n",
       "      <td>0</td>\n",
       "    </tr>\n",
       "  </tbody>\n",
       "</table>\n",
       "<p>10000 rows × 14 columns</p>\n",
       "</div>"
      ],
      "text/plain": [
       "      RowNumber  CustomerId    Surname  CreditScore Geography  Gender  Age  \\\n",
       "0             1    15634602   Hargrave          619    France  Female   42   \n",
       "1             2    15647311       Hill          608     Spain  Female   41   \n",
       "2             3    15619304       Onio          502    France  Female   42   \n",
       "3             4    15701354       Boni          699    France  Female   39   \n",
       "4             5    15737888   Mitchell          850     Spain  Female   43   \n",
       "...         ...         ...        ...          ...       ...     ...  ...   \n",
       "9995       9996    15606229   Obijiaku          771    France    Male   39   \n",
       "9996       9997    15569892  Johnstone          516    France    Male   35   \n",
       "9997       9998    15584532        Liu          709    France  Female   36   \n",
       "9998       9999    15682355  Sabbatini          772   Germany    Male   42   \n",
       "9999      10000    15628319     Walker          792    France  Female   28   \n",
       "\n",
       "      Tenure    Balance  NumOfProducts  HasCrCard  IsActiveMember  \\\n",
       "0        2.0       0.00              1          1               1   \n",
       "1        1.0   83807.86              1          0               1   \n",
       "2        8.0  159660.80              3          1               0   \n",
       "3        1.0       0.00              2          0               0   \n",
       "4        2.0  125510.82              1          1               1   \n",
       "...      ...        ...            ...        ...             ...   \n",
       "9995     5.0       0.00              2          1               0   \n",
       "9996    10.0   57369.61              1          1               1   \n",
       "9997     7.0       0.00              1          0               1   \n",
       "9998     3.0   75075.31              2          1               0   \n",
       "9999     NaN  130142.79              1          1               0   \n",
       "\n",
       "      EstimatedSalary  Exited  \n",
       "0           101348.88       1  \n",
       "1           112542.58       0  \n",
       "2           113931.57       1  \n",
       "3            93826.63       0  \n",
       "4            79084.10       0  \n",
       "...               ...     ...  \n",
       "9995         96270.64       0  \n",
       "9996        101699.77       0  \n",
       "9997         42085.58       1  \n",
       "9998         92888.52       1  \n",
       "9999         38190.78       0  \n",
       "\n",
       "[10000 rows x 14 columns]"
      ]
     },
     "execution_count": 5,
     "metadata": {},
     "output_type": "execute_result"
    }
   ],
   "source": [
    "data"
   ]
  },
  {
   "cell_type": "code",
   "execution_count": 6,
   "metadata": {},
   "outputs": [
    {
     "data": {
      "text/html": [
       "<div>\n",
       "<style scoped>\n",
       "    .dataframe tbody tr th:only-of-type {\n",
       "        vertical-align: middle;\n",
       "    }\n",
       "\n",
       "    .dataframe tbody tr th {\n",
       "        vertical-align: top;\n",
       "    }\n",
       "\n",
       "    .dataframe thead th {\n",
       "        text-align: right;\n",
       "    }\n",
       "</style>\n",
       "<table border=\"1\" class=\"dataframe\">\n",
       "  <thead>\n",
       "    <tr style=\"text-align: right;\">\n",
       "      <th></th>\n",
       "      <th>RowNumber</th>\n",
       "      <th>CustomerId</th>\n",
       "      <th>Surname</th>\n",
       "      <th>CreditScore</th>\n",
       "      <th>Geography</th>\n",
       "      <th>Gender</th>\n",
       "      <th>Age</th>\n",
       "      <th>Tenure</th>\n",
       "      <th>Balance</th>\n",
       "      <th>NumOfProducts</th>\n",
       "      <th>HasCrCard</th>\n",
       "      <th>IsActiveMember</th>\n",
       "      <th>EstimatedSalary</th>\n",
       "      <th>Exited</th>\n",
       "    </tr>\n",
       "  </thead>\n",
       "  <tbody>\n",
       "  </tbody>\n",
       "</table>\n",
       "</div>"
      ],
      "text/plain": [
       "Empty DataFrame\n",
       "Columns: [RowNumber, CustomerId, Surname, CreditScore, Geography, Gender, Age, Tenure, Balance, NumOfProducts, HasCrCard, IsActiveMember, EstimatedSalary, Exited]\n",
       "Index: []"
      ]
     },
     "execution_count": 6,
     "metadata": {},
     "output_type": "execute_result"
    }
   ],
   "source": [
    "data[data.duplicated()]"
   ]
  },
  {
   "cell_type": "code",
   "execution_count": 7,
   "metadata": {
    "scrolled": true
   },
   "outputs": [
    {
     "data": {
      "text/plain": [
       "RowNumber            0\n",
       "CustomerId           0\n",
       "Surname              0\n",
       "CreditScore          0\n",
       "Geography            0\n",
       "Gender               0\n",
       "Age                  0\n",
       "Tenure             909\n",
       "Balance              0\n",
       "NumOfProducts        0\n",
       "HasCrCard            0\n",
       "IsActiveMember       0\n",
       "EstimatedSalary      0\n",
       "Exited               0\n",
       "dtype: int64"
      ]
     },
     "execution_count": 7,
     "metadata": {},
     "output_type": "execute_result"
    }
   ],
   "source": [
    "data.isna().sum()"
   ]
  },
  {
   "cell_type": "code",
   "execution_count": 8,
   "metadata": {},
   "outputs": [],
   "source": [
    "data=data.fillna(0)"
   ]
  },
  {
   "cell_type": "code",
   "execution_count": 9,
   "metadata": {
    "scrolled": true
   },
   "outputs": [
    {
     "data": {
      "text/plain": [
       "RowNumber          0\n",
       "CustomerId         0\n",
       "Surname            0\n",
       "CreditScore        0\n",
       "Geography          0\n",
       "Gender             0\n",
       "Age                0\n",
       "Tenure             0\n",
       "Balance            0\n",
       "NumOfProducts      0\n",
       "HasCrCard          0\n",
       "IsActiveMember     0\n",
       "EstimatedSalary    0\n",
       "Exited             0\n",
       "dtype: int64"
      ]
     },
     "execution_count": 9,
     "metadata": {},
     "output_type": "execute_result"
    }
   ],
   "source": [
    "data.isna().sum()"
   ]
  },
  {
   "cell_type": "markdown",
   "metadata": {},
   "source": [
    "## Preparacion de datos"
   ]
  },
  {
   "cell_type": "code",
   "execution_count": 10,
   "metadata": {
    "scrolled": true
   },
   "outputs": [
    {
     "data": {
      "text/html": [
       "<div>\n",
       "<style scoped>\n",
       "    .dataframe tbody tr th:only-of-type {\n",
       "        vertical-align: middle;\n",
       "    }\n",
       "\n",
       "    .dataframe tbody tr th {\n",
       "        vertical-align: top;\n",
       "    }\n",
       "\n",
       "    .dataframe thead th {\n",
       "        text-align: right;\n",
       "    }\n",
       "</style>\n",
       "<table border=\"1\" class=\"dataframe\">\n",
       "  <thead>\n",
       "    <tr style=\"text-align: right;\">\n",
       "      <th></th>\n",
       "      <th>RowNumber</th>\n",
       "      <th>CustomerId</th>\n",
       "      <th>Surname</th>\n",
       "      <th>CreditScore</th>\n",
       "      <th>Geography</th>\n",
       "      <th>Gender</th>\n",
       "      <th>Age</th>\n",
       "      <th>Tenure</th>\n",
       "      <th>Balance</th>\n",
       "      <th>NumOfProducts</th>\n",
       "      <th>HasCrCard</th>\n",
       "      <th>IsActiveMember</th>\n",
       "      <th>EstimatedSalary</th>\n",
       "      <th>Exited</th>\n",
       "    </tr>\n",
       "  </thead>\n",
       "  <tbody>\n",
       "  </tbody>\n",
       "</table>\n",
       "</div>"
      ],
      "text/plain": [
       "Empty DataFrame\n",
       "Columns: [RowNumber, CustomerId, Surname, CreditScore, Geography, Gender, Age, Tenure, Balance, NumOfProducts, HasCrCard, IsActiveMember, EstimatedSalary, Exited]\n",
       "Index: []"
      ]
     },
     "execution_count": 10,
     "metadata": {},
     "output_type": "execute_result"
    }
   ],
   "source": [
    "data[~((data['Exited']==1)|(data['Exited']==0))]"
   ]
  },
  {
   "cell_type": "markdown",
   "metadata": {},
   "source": [
    "### Cambio de etiquetas"
   ]
  },
  {
   "cell_type": "markdown",
   "metadata": {},
   "source": [
    "Aqui realizamos un cambio de etiquetas para los valores categoricos y pasarlo a valores numericos, para que nuestro modelo pueda trabajar mejor"
   ]
  },
  {
   "cell_type": "code",
   "execution_count": 11,
   "metadata": {},
   "outputs": [],
   "source": [
    "enconder = OrdinalEncoder()\n",
    "data_ordinal = pd.DataFrame(enconder.fit_transform(data), columns=data.columns)\n"
   ]
  },
  {
   "cell_type": "markdown",
   "metadata": {},
   "source": [
    "### Separacion de datos de entrenamiento y de validación"
   ]
  },
  {
   "cell_type": "code",
   "execution_count": 12,
   "metadata": {},
   "outputs": [],
   "source": [
    "featured = data_ordinal.drop(['Exited'], axis=1)\n",
    "target = data_ordinal['Exited']\n"
   ]
  },
  {
   "cell_type": "code",
   "execution_count": 13,
   "metadata": {},
   "outputs": [],
   "source": [
    "featured_train, featured_valid, target_train, target_valid = train_test_split(featured, target,random_state=12345, test_size=0.25)"
   ]
  },
  {
   "cell_type": "markdown",
   "metadata": {},
   "source": [
    "## Creacion de Modelo"
   ]
  },
  {
   "cell_type": "code",
   "execution_count": 14,
   "metadata": {},
   "outputs": [],
   "source": [
    "model = RandomForestClassifier(random_state=12345, n_estimators=100, max_depth=15)"
   ]
  },
  {
   "cell_type": "code",
   "execution_count": 15,
   "metadata": {},
   "outputs": [
    {
     "data": {
      "text/plain": [
       "RandomForestClassifier(max_depth=15, random_state=12345)"
      ]
     },
     "execution_count": 15,
     "metadata": {},
     "output_type": "execute_result"
    }
   ],
   "source": [
    "model.fit(featured_train,target_train)"
   ]
  },
  {
   "cell_type": "code",
   "execution_count": 16,
   "metadata": {},
   "outputs": [],
   "source": [
    "predicted_valid = model.predict(featured_valid)"
   ]
  },
  {
   "cell_type": "code",
   "execution_count": 17,
   "metadata": {
    "scrolled": true
   },
   "outputs": [
    {
     "data": {
      "text/plain": [
       "0.5308641975308642"
      ]
     },
     "execution_count": 17,
     "metadata": {},
     "output_type": "execute_result"
    }
   ],
   "source": [
    "f1_score(target_valid, predicted_valid)"
   ]
  },
  {
   "cell_type": "markdown",
   "metadata": {},
   "source": [
    "EL valor es menor que 0.59 debemos de escalarlo, y realizar modificaciones para mejor este resultado."
   ]
  },
  {
   "cell_type": "markdown",
   "metadata": {},
   "source": [
    "## Modificación de base de datos"
   ]
  },
  {
   "cell_type": "markdown",
   "metadata": {},
   "source": [
    "### Sobremuestreo"
   ]
  },
  {
   "cell_type": "code",
   "execution_count": 18,
   "metadata": {},
   "outputs": [
    {
     "data": {
      "text/plain": [
       "1502"
      ]
     },
     "execution_count": 18,
     "metadata": {},
     "output_type": "execute_result"
    }
   ],
   "source": [
    "target_train[target_train==1].count()\n"
   ]
  },
  {
   "cell_type": "code",
   "execution_count": 19,
   "metadata": {},
   "outputs": [
    {
     "data": {
      "text/plain": [
       "5998"
      ]
     },
     "execution_count": 19,
     "metadata": {},
     "output_type": "execute_result"
    }
   ],
   "source": [
    "target_train[target_train==0].count()\n"
   ]
  },
  {
   "cell_type": "code",
   "execution_count": 20,
   "metadata": {},
   "outputs": [],
   "source": [
    "def upsample(featured,target,repeat):\n",
    "    features_zeros = featured[target==0]\n",
    "    features_ones = featured[target==1]\n",
    "    target_zeros = target[target==0]\n",
    "    target_ones = target[target==1]\n",
    "    \n",
    "    features_upsampled = pd.concat([features_zeros]+[features_ones]*repeat)\n",
    "    target_upsampled = pd.concat([target_zeros]+[target_ones]*repeat)\n",
    "    features_upsampled, target_upsampled = shuffle(features_upsampled, target_upsampled, random_state=12345)\n",
    "    return features_upsampled, target_upsampled"
   ]
  },
  {
   "cell_type": "code",
   "execution_count": 21,
   "metadata": {},
   "outputs": [],
   "source": [
    "featured_upsampled, target_upsampled = upsample(featured_train, target_train,5)"
   ]
  },
  {
   "cell_type": "code",
   "execution_count": 22,
   "metadata": {},
   "outputs": [
    {
     "data": {
      "text/plain": [
       "RandomForestClassifier(max_depth=15, random_state=12345)"
      ]
     },
     "execution_count": 22,
     "metadata": {},
     "output_type": "execute_result"
    }
   ],
   "source": [
    "model.fit(featured_upsampled,target_upsampled)"
   ]
  },
  {
   "cell_type": "code",
   "execution_count": 23,
   "metadata": {},
   "outputs": [],
   "source": [
    "predicted_valid = model.predict(featured_valid)"
   ]
  },
  {
   "cell_type": "code",
   "execution_count": 24,
   "metadata": {},
   "outputs": [
    {
     "data": {
      "text/plain": [
       "0.6072144288577155"
      ]
     },
     "execution_count": 24,
     "metadata": {},
     "output_type": "execute_result"
    }
   ],
   "source": [
    "f1_score(target_valid, predicted_valid)"
   ]
  },
  {
   "cell_type": "markdown",
   "metadata": {},
   "source": [
    "### Submuestreo"
   ]
  },
  {
   "cell_type": "markdown",
   "metadata": {},
   "source": [
    "No veo la utilidad de utilizar el submuestreo"
   ]
  },
  {
   "cell_type": "code",
   "execution_count": 25,
   "metadata": {},
   "outputs": [],
   "source": [
    "def downsample(features, target, fraction):\n",
    "    features_zeros = features[target == 0]\n",
    "    features_ones = features[target == 1]\n",
    "    target_zeros = target[target == 0]\n",
    "    target_ones = target[target == 1]\n",
    "\n",
    "    features_downsampled = pd.concat(\n",
    "        [features_zeros.sample(frac=fraction, random_state=12345)]\n",
    "        + [features_ones]\n",
    "    )\n",
    "    target_downsampled = pd.concat(\n",
    "        [target_zeros.sample(frac=fraction, random_state=12345)]\n",
    "        + [target_ones]\n",
    "    )\n",
    "\n",
    "    features_downsampled, target_downsampled = shuffle(\n",
    "        features_downsampled, target_downsampled, random_state=12345\n",
    "    )\n",
    "\n",
    "    return features_downsampled, target_downsampled"
   ]
  },
  {
   "cell_type": "code",
   "execution_count": 26,
   "metadata": {},
   "outputs": [],
   "source": [
    "#features_downsampled, target_downsampled = downsample(featured_upsampled, target_upsampled,0.5)"
   ]
  },
  {
   "cell_type": "code",
   "execution_count": 27,
   "metadata": {},
   "outputs": [],
   "source": [
    "#model.fit(features_downsampled,target_downsampled)"
   ]
  },
  {
   "cell_type": "code",
   "execution_count": 28,
   "metadata": {},
   "outputs": [],
   "source": [
    "#predicted_valid = model.predict(featured_valid)"
   ]
  },
  {
   "cell_type": "code",
   "execution_count": 29,
   "metadata": {},
   "outputs": [],
   "source": [
    "#f1_score(target_valid, predicted_valid)"
   ]
  },
  {
   "cell_type": "markdown",
   "metadata": {},
   "source": [
    "## Curva ROC"
   ]
  },
  {
   "cell_type": "code",
   "execution_count": 30,
   "metadata": {},
   "outputs": [],
   "source": [
    "probabilities_valid = model.predict_proba(featured_valid)\n",
    "probabilities_one_valid = probabilities_valid[:,1]"
   ]
  },
  {
   "cell_type": "code",
   "execution_count": 31,
   "metadata": {},
   "outputs": [],
   "source": [
    "auc_roc = roc_auc_score(target_valid,probabilities_one_valid)"
   ]
  },
  {
   "cell_type": "code",
   "execution_count": 32,
   "metadata": {
    "scrolled": true
   },
   "outputs": [
    {
     "data": {
      "text/plain": [
       "0.853605859551497"
      ]
     },
     "execution_count": 32,
     "metadata": {},
     "output_type": "execute_result"
    }
   ],
   "source": [
    "auc_roc"
   ]
  },
  {
   "cell_type": "code",
   "execution_count": 33,
   "metadata": {},
   "outputs": [],
   "source": [
    "fpr, tpr, thresholds = roc_curve(target_valid,probabilities_one_valid)"
   ]
  },
  {
   "cell_type": "markdown",
   "metadata": {},
   "source": [
    "### Grafica ROC"
   ]
  },
  {
   "cell_type": "code",
   "execution_count": 34,
   "metadata": {
    "scrolled": true
   },
   "outputs": [
    {
     "data": {
      "image/png": "[encoded data removed]",
      "text/plain": [
       "<Figure size 640x480 with 1 Axes>"
      ]
     },
     "metadata": {},
     "output_type": "display_data"
    }
   ],
   "source": [
    "plt.figure()\n",
    "\n",
    "# < traza la gráfica >\n",
    "\n",
    "# Curva ROC para modelo aleatorio (parece una línea recta)\n",
    "plt.plot(fpr,tpr)\n",
    "plt.plot([0, 1], [0, 1], linestyle='--')\n",
    "# < utiliza las funciones plt.xlim() y plt.ylim() para\n",
    "#   establecer el límite para los ejes de 0 a 1 >\n",
    "plt.xlim([0,1])\n",
    "plt.ylim([0,1])\n",
    "plt.xlabel(\"Tasa de falsos positivos\")\n",
    "plt.ylabel(\"Tasa de verdaderos positivos\")\n",
    "# < utiliza las funciones plt.xlabel() y plt.ylabel() para\n",
    "#   nombrar los ejes \"Tasa de falsos positivos\" y \"Tasa de verdaderos positivos\">\n",
    "plt.title('Curva ROC')\n",
    "# < agrega el encabezado \"Curva ROC\" con la función plt.title() >\n",
    "\n",
    "plt.show()"
   ]
  }
 ],
 "metadata": {
  "ExecuteTimeLog": [
   {
    "duration": 323,
    "start_time": "2024-11-09T19:22:14.610Z"
   },
   {
    "duration": 184,
    "start_time": "2024-11-09T19:22:43.160Z"
   },
   {
    "duration": 25,
    "start_time": "2024-11-09T19:22:52.916Z"
   },
   {
    "duration": 11,
    "start_time": "2024-11-09T19:23:00.811Z"
   },
   {
    "duration": 19,
    "start_time": "2024-11-09T19:23:11.428Z"
   },
   {
    "duration": 29,
    "start_time": "2024-11-09T19:23:33.324Z"
   },
   {
    "duration": 10,
    "start_time": "2024-11-09T19:23:41.528Z"
   },
   {
    "duration": 13,
    "start_time": "2024-11-09T19:23:47.506Z"
   },
   {
    "duration": 13,
    "start_time": "2024-11-09T19:23:55.871Z"
   },
   {
    "duration": 10,
    "start_time": "2024-11-09T19:23:59.827Z"
   },
   {
    "duration": 25,
    "start_time": "2024-11-09T19:24:06.839Z"
   },
   {
    "duration": 5,
    "start_time": "2024-11-09T19:24:21.114Z"
   },
   {
    "duration": 19,
    "start_time": "2024-11-09T19:24:26.863Z"
   },
   {
    "duration": 514,
    "start_time": "2024-11-09T19:27:00.112Z"
   },
   {
    "duration": 2,
    "start_time": "2024-11-09T19:27:25.414Z"
   },
   {
    "duration": 52,
    "start_time": "2024-11-09T19:31:19.662Z"
   },
   {
    "duration": 11,
    "start_time": "2024-11-09T19:31:25.909Z"
   },
   {
    "duration": 14,
    "start_time": "2024-11-09T19:31:33.920Z"
   },
   {
    "duration": 12,
    "start_time": "2024-11-09T19:31:47.813Z"
   },
   {
    "duration": 17,
    "start_time": "2024-11-09T19:32:05.803Z"
   },
   {
    "duration": 3,
    "start_time": "2024-11-09T19:32:15.102Z"
   },
   {
    "duration": 3,
    "start_time": "2024-11-09T19:32:19.666Z"
   },
   {
    "duration": 4,
    "start_time": "2024-11-09T19:32:32.504Z"
   },
   {
    "duration": 8,
    "start_time": "2024-11-09T19:32:36.536Z"
   },
   {
    "duration": 3,
    "start_time": "2024-11-09T19:33:25.605Z"
   },
   {
    "duration": 4,
    "start_time": "2024-11-09T19:34:33.595Z"
   },
   {
    "duration": 6,
    "start_time": "2024-11-09T19:36:04.147Z"
   },
   {
    "duration": 780,
    "start_time": "2024-11-09T19:43:10.852Z"
   },
   {
    "duration": 16,
    "start_time": "2024-11-09T19:43:11.634Z"
   },
   {
    "duration": 10,
    "start_time": "2024-11-09T19:43:11.652Z"
   },
   {
    "duration": 45,
    "start_time": "2024-11-09T19:43:11.663Z"
   },
   {
    "duration": 15,
    "start_time": "2024-11-09T19:43:11.711Z"
   },
   {
    "duration": 10,
    "start_time": "2024-11-09T19:43:11.728Z"
   },
   {
    "duration": 8,
    "start_time": "2024-11-09T19:43:11.740Z"
   },
   {
    "duration": 439,
    "start_time": "2024-11-09T19:43:11.750Z"
   },
   {
    "duration": 0,
    "start_time": "2024-11-09T19:43:12.191Z"
   },
   {
    "duration": 0,
    "start_time": "2024-11-09T19:43:12.193Z"
   },
   {
    "duration": 0,
    "start_time": "2024-11-09T19:43:12.194Z"
   },
   {
    "duration": 16,
    "start_time": "2024-11-09T19:45:03.355Z"
   },
   {
    "duration": 6,
    "start_time": "2024-11-09T19:45:08.935Z"
   },
   {
    "duration": 17,
    "start_time": "2024-11-09T19:46:08.576Z"
   },
   {
    "duration": 7,
    "start_time": "2024-11-09T19:46:20.100Z"
   },
   {
    "duration": 5,
    "start_time": "2024-11-09T19:46:26.897Z"
   },
   {
    "duration": 7,
    "start_time": "2024-11-09T19:46:29.027Z"
   },
   {
    "duration": 33,
    "start_time": "2024-11-09T19:46:57.186Z"
   },
   {
    "duration": 4,
    "start_time": "2024-11-09T19:47:02.744Z"
   },
   {
    "duration": 6,
    "start_time": "2024-11-09T19:47:04.484Z"
   },
   {
    "duration": 818,
    "start_time": "2024-11-09T19:47:08.922Z"
   },
   {
    "duration": 17,
    "start_time": "2024-11-09T19:47:09.742Z"
   },
   {
    "duration": 18,
    "start_time": "2024-11-09T19:47:09.760Z"
   },
   {
    "duration": 39,
    "start_time": "2024-11-09T19:47:09.780Z"
   },
   {
    "duration": 15,
    "start_time": "2024-11-09T19:47:09.822Z"
   },
   {
    "duration": 11,
    "start_time": "2024-11-09T19:47:09.839Z"
   },
   {
    "duration": 6,
    "start_time": "2024-11-09T19:47:09.852Z"
   },
   {
    "duration": 4,
    "start_time": "2024-11-09T19:47:09.859Z"
   },
   {
    "duration": 7,
    "start_time": "2024-11-09T19:47:09.865Z"
   },
   {
    "duration": 44,
    "start_time": "2024-11-09T19:47:09.874Z"
   },
   {
    "duration": 26,
    "start_time": "2024-11-09T19:47:09.919Z"
   },
   {
    "duration": 4,
    "start_time": "2024-11-09T19:47:09.946Z"
   },
   {
    "duration": 5,
    "start_time": "2024-11-09T19:47:09.951Z"
   },
   {
    "duration": 2,
    "start_time": "2024-11-09T19:47:09.959Z"
   },
   {
    "duration": 763,
    "start_time": "2024-11-09T19:47:35.076Z"
   },
   {
    "duration": 16,
    "start_time": "2024-11-09T19:47:35.842Z"
   },
   {
    "duration": 11,
    "start_time": "2024-11-09T19:47:35.859Z"
   },
   {
    "duration": 46,
    "start_time": "2024-11-09T19:47:35.872Z"
   },
   {
    "duration": 16,
    "start_time": "2024-11-09T19:47:35.920Z"
   },
   {
    "duration": 11,
    "start_time": "2024-11-09T19:47:35.938Z"
   },
   {
    "duration": 6,
    "start_time": "2024-11-09T19:47:35.951Z"
   },
   {
    "duration": 4,
    "start_time": "2024-11-09T19:47:35.959Z"
   },
   {
    "duration": 8,
    "start_time": "2024-11-09T19:47:35.964Z"
   },
   {
    "duration": 43,
    "start_time": "2024-11-09T19:47:35.973Z"
   },
   {
    "duration": 27,
    "start_time": "2024-11-09T19:47:36.017Z"
   },
   {
    "duration": 4,
    "start_time": "2024-11-09T19:47:36.045Z"
   },
   {
    "duration": 4,
    "start_time": "2024-11-09T19:47:36.051Z"
   },
   {
    "duration": 2,
    "start_time": "2024-11-09T19:47:36.061Z"
   },
   {
    "duration": 340,
    "start_time": "2024-11-09T19:49:21.366Z"
   },
   {
    "duration": 947,
    "start_time": "2024-11-09T19:49:37.599Z"
   },
   {
    "duration": 40,
    "start_time": "2024-11-09T19:50:59.340Z"
   },
   {
    "duration": 6,
    "start_time": "2024-11-09T19:51:12.684Z"
   },
   {
    "duration": 3,
    "start_time": "2024-11-09T20:04:59.414Z"
   },
   {
    "duration": 4,
    "start_time": "2024-11-09T20:06:21.226Z"
   },
   {
    "duration": 3,
    "start_time": "2024-11-09T20:06:26.042Z"
   },
   {
    "duration": 5,
    "start_time": "2024-11-09T20:06:51.654Z"
   },
   {
    "duration": 5,
    "start_time": "2024-11-09T20:24:10.116Z"
   },
   {
    "duration": 6,
    "start_time": "2024-11-09T20:24:26.887Z"
   },
   {
    "duration": 8,
    "start_time": "2024-11-09T20:24:31.840Z"
   },
   {
    "duration": 5,
    "start_time": "2024-11-09T20:24:44.212Z"
   },
   {
    "duration": 338,
    "start_time": "2024-11-09T20:25:00.195Z"
   },
   {
    "duration": 5,
    "start_time": "2024-11-09T20:25:11.350Z"
   },
   {
    "duration": 6,
    "start_time": "2024-11-09T20:25:16.842Z"
   },
   {
    "duration": 5,
    "start_time": "2024-11-09T20:25:39.395Z"
   },
   {
    "duration": 6,
    "start_time": "2024-11-09T20:25:51.194Z"
   },
   {
    "duration": 4,
    "start_time": "2024-11-09T20:26:00.664Z"
   },
   {
    "duration": 5,
    "start_time": "2024-11-09T20:26:04.131Z"
   },
   {
    "duration": 4,
    "start_time": "2024-11-09T20:26:11.812Z"
   },
   {
    "duration": 14,
    "start_time": "2024-11-09T20:27:06.689Z"
   },
   {
    "duration": 13,
    "start_time": "2024-11-09T20:27:12.261Z"
   },
   {
    "duration": 3,
    "start_time": "2024-11-09T20:31:58.464Z"
   },
   {
    "duration": 24,
    "start_time": "2024-11-09T20:32:56.930Z"
   },
   {
    "duration": 22,
    "start_time": "2024-11-09T20:33:23.638Z"
   },
   {
    "duration": 3,
    "start_time": "2024-11-09T20:33:34.118Z"
   },
   {
    "duration": 24,
    "start_time": "2024-11-09T20:33:35.905Z"
   },
   {
    "duration": 3,
    "start_time": "2024-11-09T20:34:02.902Z"
   },
   {
    "duration": 3,
    "start_time": "2024-11-09T20:34:07.574Z"
   },
   {
    "duration": 19,
    "start_time": "2024-11-09T20:34:09.228Z"
   },
   {
    "duration": 4,
    "start_time": "2024-11-09T20:34:36.518Z"
   },
   {
    "duration": 9,
    "start_time": "2024-11-09T20:34:42.591Z"
   },
   {
    "duration": 1901,
    "start_time": "2024-11-09T20:36:00.222Z"
   },
   {
    "duration": 42,
    "start_time": "2024-11-09T20:36:37.542Z"
   },
   {
    "duration": 6,
    "start_time": "2024-11-09T20:36:45.044Z"
   },
   {
    "duration": 26,
    "start_time": "2024-11-09T20:36:49.992Z"
   },
   {
    "duration": 6,
    "start_time": "2024-11-09T20:36:51.583Z"
   },
   {
    "duration": 774,
    "start_time": "2024-11-09T20:37:00.966Z"
   },
   {
    "duration": 16,
    "start_time": "2024-11-09T20:37:01.742Z"
   },
   {
    "duration": 12,
    "start_time": "2024-11-09T20:37:01.760Z"
   },
   {
    "duration": 44,
    "start_time": "2024-11-09T20:37:01.774Z"
   },
   {
    "duration": 17,
    "start_time": "2024-11-09T20:37:01.821Z"
   },
   {
    "duration": 12,
    "start_time": "2024-11-09T20:37:01.839Z"
   },
   {
    "duration": 7,
    "start_time": "2024-11-09T20:37:01.853Z"
   },
   {
    "duration": 5,
    "start_time": "2024-11-09T20:37:01.861Z"
   },
   {
    "duration": 9,
    "start_time": "2024-11-09T20:37:01.867Z"
   },
   {
    "duration": 9,
    "start_time": "2024-11-09T20:37:01.909Z"
   },
   {
    "duration": 26,
    "start_time": "2024-11-09T20:37:01.919Z"
   },
   {
    "duration": 4,
    "start_time": "2024-11-09T20:37:01.946Z"
   },
   {
    "duration": 5,
    "start_time": "2024-11-09T20:37:01.952Z"
   },
   {
    "duration": 3,
    "start_time": "2024-11-09T20:37:01.961Z"
   },
   {
    "duration": 981,
    "start_time": "2024-11-09T20:37:01.966Z"
   },
   {
    "duration": 40,
    "start_time": "2024-11-09T20:37:02.949Z"
   },
   {
    "duration": 18,
    "start_time": "2024-11-09T20:37:02.991Z"
   },
   {
    "duration": 4,
    "start_time": "2024-11-09T20:37:03.011Z"
   },
   {
    "duration": 4,
    "start_time": "2024-11-09T20:37:03.017Z"
   },
   {
    "duration": 3,
    "start_time": "2024-11-09T20:37:03.023Z"
   },
   {
    "duration": 26,
    "start_time": "2024-11-09T20:37:03.028Z"
   },
   {
    "duration": 11620,
    "start_time": "2024-11-09T20:37:03.056Z"
   },
   {
    "duration": 54,
    "start_time": "2024-11-09T20:37:14.677Z"
   },
   {
    "duration": 6,
    "start_time": "2024-11-09T20:37:14.733Z"
   },
   {
    "duration": 7,
    "start_time": "2024-11-09T20:37:19.944Z"
   },
   {
    "duration": 1894,
    "start_time": "2024-11-09T20:37:22.306Z"
   },
   {
    "duration": 44,
    "start_time": "2024-11-09T20:37:24.203Z"
   },
   {
    "duration": 6,
    "start_time": "2024-11-09T20:37:24.248Z"
   },
   {
    "duration": 7,
    "start_time": "2024-11-09T20:37:30.946Z"
   },
   {
    "duration": 1437,
    "start_time": "2024-11-09T20:37:31.303Z"
   },
   {
    "duration": 42,
    "start_time": "2024-11-09T20:37:32.742Z"
   },
   {
    "duration": 8,
    "start_time": "2024-11-09T20:37:32.786Z"
   },
   {
    "duration": 3,
    "start_time": "2024-11-09T20:39:52.720Z"
   },
   {
    "duration": 3160,
    "start_time": "2024-11-09T20:39:57.490Z"
   },
   {
    "duration": 997,
    "start_time": "2024-11-09T20:41:38.044Z"
   },
   {
    "duration": 995,
    "start_time": "2024-11-09T20:42:50.154Z"
   },
   {
    "duration": 760,
    "start_time": "2024-11-09T20:43:04.973Z"
   },
   {
    "duration": 17,
    "start_time": "2024-11-09T20:43:05.735Z"
   },
   {
    "duration": 10,
    "start_time": "2024-11-09T20:43:05.753Z"
   },
   {
    "duration": 45,
    "start_time": "2024-11-09T20:43:05.765Z"
   },
   {
    "duration": 16,
    "start_time": "2024-11-09T20:43:05.813Z"
   },
   {
    "duration": 11,
    "start_time": "2024-11-09T20:43:05.831Z"
   },
   {
    "duration": 6,
    "start_time": "2024-11-09T20:43:05.844Z"
   },
   {
    "duration": 4,
    "start_time": "2024-11-09T20:43:05.851Z"
   },
   {
    "duration": 8,
    "start_time": "2024-11-09T20:43:05.857Z"
   },
   {
    "duration": 45,
    "start_time": "2024-11-09T20:43:05.866Z"
   },
   {
    "duration": 26,
    "start_time": "2024-11-09T20:43:05.914Z"
   },
   {
    "duration": 5,
    "start_time": "2024-11-09T20:43:05.943Z"
   },
   {
    "duration": 5,
    "start_time": "2024-11-09T20:43:05.950Z"
   },
   {
    "duration": 2,
    "start_time": "2024-11-09T20:43:05.959Z"
   },
   {
    "duration": 973,
    "start_time": "2024-11-09T20:43:05.962Z"
   },
   {
    "duration": 39,
    "start_time": "2024-11-09T20:43:06.937Z"
   },
   {
    "duration": 6,
    "start_time": "2024-11-09T20:43:06.978Z"
   },
   {
    "duration": 24,
    "start_time": "2024-11-09T20:43:06.985Z"
   },
   {
    "duration": 5,
    "start_time": "2024-11-09T20:43:07.010Z"
   },
   {
    "duration": 4,
    "start_time": "2024-11-09T20:43:07.016Z"
   },
   {
    "duration": 8,
    "start_time": "2024-11-09T20:43:07.022Z"
   },
   {
    "duration": 1478,
    "start_time": "2024-11-09T20:43:07.031Z"
   },
   {
    "duration": 42,
    "start_time": "2024-11-09T20:43:08.511Z"
   },
   {
    "duration": 6,
    "start_time": "2024-11-09T20:43:08.555Z"
   },
   {
    "duration": 9,
    "start_time": "2024-11-09T20:43:15.568Z"
   },
   {
    "duration": 1927,
    "start_time": "2024-11-09T20:43:15.943Z"
   },
   {
    "duration": 51,
    "start_time": "2024-11-09T20:43:17.872Z"
   },
   {
    "duration": 6,
    "start_time": "2024-11-09T20:43:17.925Z"
   },
   {
    "duration": 7,
    "start_time": "2024-11-09T20:43:22.934Z"
   },
   {
    "duration": 934,
    "start_time": "2024-11-09T20:43:23.262Z"
   },
   {
    "duration": 43,
    "start_time": "2024-11-09T20:43:24.198Z"
   },
   {
    "duration": 7,
    "start_time": "2024-11-09T20:43:24.243Z"
   },
   {
    "duration": 6,
    "start_time": "2024-11-09T20:43:27.396Z"
   },
   {
    "duration": 1470,
    "start_time": "2024-11-09T20:43:27.718Z"
   },
   {
    "duration": 48,
    "start_time": "2024-11-09T20:43:29.191Z"
   },
   {
    "duration": 6,
    "start_time": "2024-11-09T20:43:29.241Z"
   },
   {
    "duration": 8,
    "start_time": "2024-11-09T20:43:35.407Z"
   },
   {
    "duration": 1526,
    "start_time": "2024-11-09T20:43:35.601Z"
   },
   {
    "duration": 42,
    "start_time": "2024-11-09T20:43:37.129Z"
   },
   {
    "duration": 8,
    "start_time": "2024-11-09T20:43:37.173Z"
   },
   {
    "duration": 6,
    "start_time": "2024-11-09T20:43:41.184Z"
   },
   {
    "duration": 1338,
    "start_time": "2024-11-09T20:43:41.442Z"
   },
   {
    "duration": 51,
    "start_time": "2024-11-09T20:43:42.782Z"
   },
   {
    "duration": 6,
    "start_time": "2024-11-09T20:43:45.081Z"
   },
   {
    "duration": 6,
    "start_time": "2024-11-09T20:43:48.544Z"
   },
   {
    "duration": 1458,
    "start_time": "2024-11-09T20:43:48.745Z"
   },
   {
    "duration": 43,
    "start_time": "2024-11-09T20:43:50.205Z"
   },
   {
    "duration": 8,
    "start_time": "2024-11-09T20:43:50.250Z"
   },
   {
    "duration": 212,
    "start_time": "2024-11-09T20:44:42.597Z"
   },
   {
    "duration": 14,
    "start_time": "2024-11-09T20:44:48.053Z"
   },
   {
    "duration": 3,
    "start_time": "2024-11-09T20:44:53.128Z"
   },
   {
    "duration": 2,
    "start_time": "2024-11-09T20:45:12.613Z"
   },
   {
    "duration": 76,
    "start_time": "2024-11-09T20:46:25.251Z"
   },
   {
    "duration": 40,
    "start_time": "2024-11-09T20:46:55.504Z"
   },
   {
    "duration": 3,
    "start_time": "2024-11-09T20:46:59.540Z"
   },
   {
    "duration": 997,
    "start_time": "2024-11-09T20:47:01.737Z"
   },
   {
    "duration": 6,
    "start_time": "2024-11-09T20:47:09.600Z"
   },
   {
    "duration": 5,
    "start_time": "2024-11-09T20:47:11.741Z"
   },
   {
    "duration": 13,
    "start_time": "2024-11-09T20:47:48.764Z"
   },
   {
    "duration": 6,
    "start_time": "2024-11-09T20:47:55.909Z"
   },
   {
    "duration": 7,
    "start_time": "2024-11-09T20:47:57.209Z"
   },
   {
    "duration": 752,
    "start_time": "2024-11-09T20:48:01.098Z"
   },
   {
    "duration": 15,
    "start_time": "2024-11-09T20:48:01.853Z"
   },
   {
    "duration": 11,
    "start_time": "2024-11-09T20:48:01.869Z"
   },
   {
    "duration": 44,
    "start_time": "2024-11-09T20:48:01.881Z"
   },
   {
    "duration": 16,
    "start_time": "2024-11-09T20:48:01.927Z"
   },
   {
    "duration": 11,
    "start_time": "2024-11-09T20:48:01.945Z"
   },
   {
    "duration": 6,
    "start_time": "2024-11-09T20:48:01.957Z"
   },
   {
    "duration": 5,
    "start_time": "2024-11-09T20:48:01.964Z"
   },
   {
    "duration": 39,
    "start_time": "2024-11-09T20:48:01.970Z"
   },
   {
    "duration": 8,
    "start_time": "2024-11-09T20:48:02.010Z"
   },
   {
    "duration": 76,
    "start_time": "2024-11-09T20:48:02.019Z"
   },
   {
    "duration": 41,
    "start_time": "2024-11-09T20:48:02.108Z"
   },
   {
    "duration": 150,
    "start_time": "2024-11-09T20:48:02.151Z"
   },
   {
    "duration": 4,
    "start_time": "2024-11-09T20:48:02.305Z"
   },
   {
    "duration": 7075,
    "start_time": "2024-11-09T20:48:02.312Z"
   },
   {
    "duration": 30,
    "start_time": "2024-11-09T20:48:09.388Z"
   },
   {
    "duration": 331,
    "start_time": "2024-11-09T20:48:09.420Z"
   },
   {
    "duration": 0,
    "start_time": "2024-11-09T20:48:09.752Z"
   },
   {
    "duration": 0,
    "start_time": "2024-11-09T20:48:09.753Z"
   },
   {
    "duration": 0,
    "start_time": "2024-11-09T20:48:09.761Z"
   },
   {
    "duration": 0,
    "start_time": "2024-11-09T20:48:09.762Z"
   },
   {
    "duration": 0,
    "start_time": "2024-11-09T20:48:09.763Z"
   },
   {
    "duration": 0,
    "start_time": "2024-11-09T20:48:09.765Z"
   },
   {
    "duration": 0,
    "start_time": "2024-11-09T20:48:09.766Z"
   },
   {
    "duration": 24,
    "start_time": "2024-11-09T20:48:27.955Z"
   },
   {
    "duration": 6,
    "start_time": "2024-11-09T20:48:28.563Z"
   },
   {
    "duration": 133,
    "start_time": "2024-11-09T20:48:42.484Z"
   },
   {
    "duration": 6,
    "start_time": "2024-11-09T20:48:43.004Z"
   },
   {
    "duration": 3,
    "start_time": "2024-11-09T20:48:59.531Z"
   },
   {
    "duration": 5,
    "start_time": "2024-11-09T20:49:00.393Z"
   },
   {
    "duration": 779,
    "start_time": "2024-11-09T20:49:08.908Z"
   },
   {
    "duration": 20,
    "start_time": "2024-11-09T20:49:09.689Z"
   },
   {
    "duration": 10,
    "start_time": "2024-11-09T20:49:09.710Z"
   },
   {
    "duration": 29,
    "start_time": "2024-11-09T20:49:09.722Z"
   },
   {
    "duration": 27,
    "start_time": "2024-11-09T20:49:09.754Z"
   },
   {
    "duration": 31,
    "start_time": "2024-11-09T20:49:09.783Z"
   },
   {
    "duration": 7,
    "start_time": "2024-11-09T20:49:09.816Z"
   },
   {
    "duration": 4,
    "start_time": "2024-11-09T20:49:09.824Z"
   },
   {
    "duration": 7,
    "start_time": "2024-11-09T20:49:09.829Z"
   },
   {
    "duration": 7,
    "start_time": "2024-11-09T20:49:09.838Z"
   },
   {
    "duration": 101,
    "start_time": "2024-11-09T20:49:09.848Z"
   },
   {
    "duration": 4,
    "start_time": "2024-11-09T20:49:09.951Z"
   },
   {
    "duration": 4,
    "start_time": "2024-11-09T20:49:09.957Z"
   },
   {
    "duration": 2,
    "start_time": "2024-11-09T20:49:09.965Z"
   },
   {
    "duration": 1033,
    "start_time": "2024-11-09T20:49:09.968Z"
   },
   {
    "duration": 43,
    "start_time": "2024-11-09T20:49:11.003Z"
   },
   {
    "duration": 6,
    "start_time": "2024-11-09T20:49:11.048Z"
   },
   {
    "duration": 5,
    "start_time": "2024-11-09T20:49:11.056Z"
   },
   {
    "duration": 4,
    "start_time": "2024-11-09T20:49:11.063Z"
   },
   {
    "duration": 4,
    "start_time": "2024-11-09T20:49:11.068Z"
   },
   {
    "duration": 41,
    "start_time": "2024-11-09T20:49:11.073Z"
   },
   {
    "duration": 1756,
    "start_time": "2024-11-09T20:49:11.116Z"
   },
   {
    "duration": 71,
    "start_time": "2024-11-09T20:49:12.874Z"
   },
   {
    "duration": 7,
    "start_time": "2024-11-09T20:49:12.947Z"
   },
   {
    "duration": 3,
    "start_time": "2024-11-09T20:49:47.998Z"
   },
   {
    "duration": 747,
    "start_time": "2024-11-09T20:49:58.900Z"
   },
   {
    "duration": 15,
    "start_time": "2024-11-09T20:49:59.649Z"
   },
   {
    "duration": 10,
    "start_time": "2024-11-09T20:49:59.665Z"
   },
   {
    "duration": 42,
    "start_time": "2024-11-09T20:49:59.677Z"
   },
   {
    "duration": 16,
    "start_time": "2024-11-09T20:49:59.722Z"
   },
   {
    "duration": 11,
    "start_time": "2024-11-09T20:49:59.739Z"
   },
   {
    "duration": 6,
    "start_time": "2024-11-09T20:49:59.752Z"
   },
   {
    "duration": 4,
    "start_time": "2024-11-09T20:49:59.760Z"
   },
   {
    "duration": 11,
    "start_time": "2024-11-09T20:49:59.773Z"
   },
   {
    "duration": 28,
    "start_time": "2024-11-09T20:49:59.786Z"
   },
   {
    "duration": 26,
    "start_time": "2024-11-09T20:49:59.816Z"
   },
   {
    "duration": 4,
    "start_time": "2024-11-09T20:49:59.843Z"
   },
   {
    "duration": 5,
    "start_time": "2024-11-09T20:49:59.849Z"
   },
   {
    "duration": 3,
    "start_time": "2024-11-09T20:49:59.857Z"
   },
   {
    "duration": 974,
    "start_time": "2024-11-09T20:49:59.861Z"
   },
   {
    "duration": 44,
    "start_time": "2024-11-09T20:50:00.837Z"
   },
   {
    "duration": 7,
    "start_time": "2024-11-09T20:50:00.882Z"
   },
   {
    "duration": 21,
    "start_time": "2024-11-09T20:50:00.891Z"
   },
   {
    "duration": 6,
    "start_time": "2024-11-09T20:50:00.914Z"
   },
   {
    "duration": 5,
    "start_time": "2024-11-09T20:50:00.921Z"
   },
   {
    "duration": 14,
    "start_time": "2024-11-09T20:50:00.928Z"
   },
   {
    "duration": 1422,
    "start_time": "2024-11-09T20:50:00.946Z"
   },
   {
    "duration": 49,
    "start_time": "2024-11-09T20:50:02.370Z"
   },
   {
    "duration": 8,
    "start_time": "2024-11-09T20:50:02.421Z"
   },
   {
    "duration": 2,
    "start_time": "2024-11-09T20:50:13.886Z"
   },
   {
    "duration": 955,
    "start_time": "2024-11-09T20:50:14.453Z"
   },
   {
    "duration": 38,
    "start_time": "2024-11-09T20:50:15.410Z"
   },
   {
    "duration": 7,
    "start_time": "2024-11-09T20:50:15.450Z"
   },
   {
    "duration": 3,
    "start_time": "2024-11-09T20:50:22.140Z"
   },
   {
    "duration": 925,
    "start_time": "2024-11-09T20:50:22.485Z"
   },
   {
    "duration": 38,
    "start_time": "2024-11-09T20:50:23.412Z"
   },
   {
    "duration": 7,
    "start_time": "2024-11-09T20:50:23.451Z"
   },
   {
    "duration": 794,
    "start_time": "2024-11-09T20:50:32.441Z"
   },
   {
    "duration": 16,
    "start_time": "2024-11-09T20:50:33.237Z"
   },
   {
    "duration": 9,
    "start_time": "2024-11-09T20:50:33.256Z"
   },
   {
    "duration": 42,
    "start_time": "2024-11-09T20:50:33.268Z"
   },
   {
    "duration": 15,
    "start_time": "2024-11-09T20:50:33.313Z"
   },
   {
    "duration": 11,
    "start_time": "2024-11-09T20:50:33.329Z"
   },
   {
    "duration": 6,
    "start_time": "2024-11-09T20:50:33.341Z"
   },
   {
    "duration": 4,
    "start_time": "2024-11-09T20:50:33.348Z"
   },
   {
    "duration": 6,
    "start_time": "2024-11-09T20:50:33.354Z"
   },
   {
    "duration": 9,
    "start_time": "2024-11-09T20:50:33.362Z"
   },
   {
    "duration": 58,
    "start_time": "2024-11-09T20:50:33.373Z"
   },
   {
    "duration": 4,
    "start_time": "2024-11-09T20:50:33.433Z"
   },
   {
    "duration": 5,
    "start_time": "2024-11-09T20:50:33.438Z"
   },
   {
    "duration": 2,
    "start_time": "2024-11-09T20:50:33.446Z"
   },
   {
    "duration": 945,
    "start_time": "2024-11-09T20:50:33.450Z"
   },
   {
    "duration": 41,
    "start_time": "2024-11-09T20:50:34.397Z"
   },
   {
    "duration": 5,
    "start_time": "2024-11-09T20:50:34.440Z"
   },
   {
    "duration": 4,
    "start_time": "2024-11-09T20:50:34.447Z"
   },
   {
    "duration": 4,
    "start_time": "2024-11-09T20:50:34.453Z"
   },
   {
    "duration": 3,
    "start_time": "2024-11-09T20:50:34.459Z"
   },
   {
    "duration": 8,
    "start_time": "2024-11-09T20:50:34.463Z"
   },
   {
    "duration": 1420,
    "start_time": "2024-11-09T20:50:34.473Z"
   },
   {
    "duration": 44,
    "start_time": "2024-11-09T20:50:35.895Z"
   },
   {
    "duration": 8,
    "start_time": "2024-11-09T20:50:35.941Z"
   },
   {
    "duration": 212,
    "start_time": "2024-11-09T21:04:13.352Z"
   },
   {
    "duration": 814,
    "start_time": "2024-11-09T21:04:18.826Z"
   },
   {
    "duration": 16,
    "start_time": "2024-11-09T21:04:19.642Z"
   },
   {
    "duration": 10,
    "start_time": "2024-11-09T21:04:19.659Z"
   },
   {
    "duration": 41,
    "start_time": "2024-11-09T21:04:19.671Z"
   },
   {
    "duration": 15,
    "start_time": "2024-11-09T21:04:19.715Z"
   },
   {
    "duration": 11,
    "start_time": "2024-11-09T21:04:19.732Z"
   },
   {
    "duration": 7,
    "start_time": "2024-11-09T21:04:19.745Z"
   },
   {
    "duration": 4,
    "start_time": "2024-11-09T21:04:19.754Z"
   },
   {
    "duration": 13,
    "start_time": "2024-11-09T21:04:19.761Z"
   },
   {
    "duration": 39,
    "start_time": "2024-11-09T21:04:19.776Z"
   },
   {
    "duration": 27,
    "start_time": "2024-11-09T21:04:19.816Z"
   },
   {
    "duration": 3,
    "start_time": "2024-11-09T21:04:19.845Z"
   },
   {
    "duration": 5,
    "start_time": "2024-11-09T21:04:19.850Z"
   },
   {
    "duration": 2,
    "start_time": "2024-11-09T21:04:19.858Z"
   },
   {
    "duration": 947,
    "start_time": "2024-11-09T21:04:19.862Z"
   },
   {
    "duration": 38,
    "start_time": "2024-11-09T21:04:20.811Z"
   },
   {
    "duration": 6,
    "start_time": "2024-11-09T21:04:20.851Z"
   },
   {
    "duration": 4,
    "start_time": "2024-11-09T21:04:20.859Z"
   },
   {
    "duration": 4,
    "start_time": "2024-11-09T21:04:20.865Z"
   },
   {
    "duration": 4,
    "start_time": "2024-11-09T21:04:20.870Z"
   },
   {
    "duration": 40,
    "start_time": "2024-11-09T21:04:20.875Z"
   },
   {
    "duration": 1377,
    "start_time": "2024-11-09T21:04:20.918Z"
   },
   {
    "duration": 45,
    "start_time": "2024-11-09T21:04:22.297Z"
   },
   {
    "duration": 6,
    "start_time": "2024-11-09T21:04:22.344Z"
   },
   {
    "duration": 234,
    "start_time": "2024-11-09T21:04:22.352Z"
   },
   {
    "duration": 0,
    "start_time": "2024-11-09T21:04:22.589Z"
   },
   {
    "duration": 40,
    "start_time": "2024-11-09T21:04:38.801Z"
   },
   {
    "duration": 4,
    "start_time": "2024-11-09T21:04:39.308Z"
   },
   {
    "duration": 4,
    "start_time": "2024-11-09T21:04:44.894Z"
   },
   {
    "duration": 819,
    "start_time": "2024-11-09T21:10:16.445Z"
   },
   {
    "duration": 19,
    "start_time": "2024-11-09T21:10:17.267Z"
   },
   {
    "duration": 13,
    "start_time": "2024-11-09T21:10:17.288Z"
   },
   {
    "duration": 36,
    "start_time": "2024-11-09T21:10:17.302Z"
   },
   {
    "duration": 16,
    "start_time": "2024-11-09T21:10:17.342Z"
   },
   {
    "duration": 13,
    "start_time": "2024-11-09T21:10:17.360Z"
   },
   {
    "duration": 6,
    "start_time": "2024-11-09T21:10:17.376Z"
   },
   {
    "duration": 5,
    "start_time": "2024-11-09T21:10:17.408Z"
   },
   {
    "duration": 9,
    "start_time": "2024-11-09T21:10:17.415Z"
   },
   {
    "duration": 9,
    "start_time": "2024-11-09T21:10:17.425Z"
   },
   {
    "duration": 26,
    "start_time": "2024-11-09T21:10:17.436Z"
   },
   {
    "duration": 4,
    "start_time": "2024-11-09T21:10:17.463Z"
   },
   {
    "duration": 40,
    "start_time": "2024-11-09T21:10:17.469Z"
   },
   {
    "duration": 4,
    "start_time": "2024-11-09T21:10:17.512Z"
   },
   {
    "duration": 935,
    "start_time": "2024-11-09T21:10:17.518Z"
   },
   {
    "duration": 36,
    "start_time": "2024-11-09T21:10:18.455Z"
   },
   {
    "duration": 18,
    "start_time": "2024-11-09T21:10:18.493Z"
   },
   {
    "duration": 4,
    "start_time": "2024-11-09T21:10:18.513Z"
   },
   {
    "duration": 4,
    "start_time": "2024-11-09T21:10:18.519Z"
   },
   {
    "duration": 3,
    "start_time": "2024-11-09T21:10:18.524Z"
   },
   {
    "duration": 7,
    "start_time": "2024-11-09T21:10:18.529Z"
   },
   {
    "duration": 1401,
    "start_time": "2024-11-09T21:10:18.538Z"
   },
   {
    "duration": 40,
    "start_time": "2024-11-09T21:10:19.940Z"
   },
   {
    "duration": 5,
    "start_time": "2024-11-09T21:10:19.982Z"
   },
   {
    "duration": 55,
    "start_time": "2024-11-09T21:10:19.989Z"
   },
   {
    "duration": 5,
    "start_time": "2024-11-09T21:10:20.045Z"
   },
   {
    "duration": 4,
    "start_time": "2024-11-09T21:10:20.051Z"
   },
   {
    "duration": 4,
    "start_time": "2024-11-09T21:10:20.056Z"
   },
   {
    "duration": 241,
    "start_time": "2024-11-09T21:10:20.062Z"
   },
   {
    "duration": 2687,
    "start_time": "2024-11-09T21:10:38.335Z"
   },
   {
    "duration": 16,
    "start_time": "2024-11-09T21:10:41.024Z"
   },
   {
    "duration": 10,
    "start_time": "2024-11-09T21:10:41.041Z"
   },
   {
    "duration": 30,
    "start_time": "2024-11-09T21:10:41.053Z"
   },
   {
    "duration": 38,
    "start_time": "2024-11-09T21:10:41.085Z"
   },
   {
    "duration": 11,
    "start_time": "2024-11-09T21:10:41.125Z"
   },
   {
    "duration": 8,
    "start_time": "2024-11-09T21:10:41.137Z"
   },
   {
    "duration": 5,
    "start_time": "2024-11-09T21:10:41.146Z"
   },
   {
    "duration": 6,
    "start_time": "2024-11-09T21:10:41.152Z"
   },
   {
    "duration": 9,
    "start_time": "2024-11-09T21:10:41.159Z"
   },
   {
    "duration": 59,
    "start_time": "2024-11-09T21:10:41.169Z"
   },
   {
    "duration": 4,
    "start_time": "2024-11-09T21:10:41.229Z"
   },
   {
    "duration": 5,
    "start_time": "2024-11-09T21:10:41.235Z"
   },
   {
    "duration": 2,
    "start_time": "2024-11-09T21:10:41.243Z"
   },
   {
    "duration": 936,
    "start_time": "2024-11-09T21:10:41.247Z"
   },
   {
    "duration": 42,
    "start_time": "2024-11-09T21:10:42.186Z"
   },
   {
    "duration": 7,
    "start_time": "2024-11-09T21:10:42.229Z"
   },
   {
    "duration": 4,
    "start_time": "2024-11-09T21:10:42.238Z"
   },
   {
    "duration": 5,
    "start_time": "2024-11-09T21:10:42.244Z"
   },
   {
    "duration": 3,
    "start_time": "2024-11-09T21:10:42.251Z"
   },
   {
    "duration": 8,
    "start_time": "2024-11-09T21:10:42.256Z"
   },
   {
    "duration": 1392,
    "start_time": "2024-11-09T21:10:42.266Z"
   },
   {
    "duration": 49,
    "start_time": "2024-11-09T21:10:43.660Z"
   },
   {
    "duration": 7,
    "start_time": "2024-11-09T21:10:43.711Z"
   },
   {
    "duration": 38,
    "start_time": "2024-11-09T21:10:43.720Z"
   },
   {
    "duration": 4,
    "start_time": "2024-11-09T21:10:43.760Z"
   },
   {
    "duration": 4,
    "start_time": "2024-11-09T21:10:43.766Z"
   },
   {
    "duration": 3,
    "start_time": "2024-11-09T21:10:43.777Z"
   },
   {
    "duration": 136,
    "start_time": "2024-11-09T21:10:43.782Z"
   },
   {
    "duration": 894,
    "start_time": "2024-11-09T21:13:43.565Z"
   },
   {
    "duration": 17,
    "start_time": "2024-11-09T21:13:44.461Z"
   },
   {
    "duration": 11,
    "start_time": "2024-11-09T21:13:44.479Z"
   },
   {
    "duration": 39,
    "start_time": "2024-11-09T21:13:44.491Z"
   },
   {
    "duration": 20,
    "start_time": "2024-11-09T21:13:44.533Z"
   },
   {
    "duration": 15,
    "start_time": "2024-11-09T21:13:44.554Z"
   },
   {
    "duration": 8,
    "start_time": "2024-11-09T21:13:44.571Z"
   },
   {
    "duration": 29,
    "start_time": "2024-11-09T21:13:44.582Z"
   },
   {
    "duration": 6,
    "start_time": "2024-11-09T21:13:44.613Z"
   },
   {
    "duration": 9,
    "start_time": "2024-11-09T21:13:44.620Z"
   },
   {
    "duration": 25,
    "start_time": "2024-11-09T21:13:44.630Z"
   },
   {
    "duration": 3,
    "start_time": "2024-11-09T21:13:44.657Z"
   },
   {
    "duration": 5,
    "start_time": "2024-11-09T21:13:44.662Z"
   },
   {
    "duration": 5,
    "start_time": "2024-11-09T21:13:44.670Z"
   },
   {
    "duration": 1023,
    "start_time": "2024-11-09T21:13:44.677Z"
   },
   {
    "duration": 40,
    "start_time": "2024-11-09T21:13:45.702Z"
   },
   {
    "duration": 7,
    "start_time": "2024-11-09T21:13:45.744Z"
   },
   {
    "duration": 4,
    "start_time": "2024-11-09T21:13:45.752Z"
   },
   {
    "duration": 4,
    "start_time": "2024-11-09T21:13:45.758Z"
   },
   {
    "duration": 4,
    "start_time": "2024-11-09T21:13:45.763Z"
   },
   {
    "duration": 8,
    "start_time": "2024-11-09T21:13:45.769Z"
   },
   {
    "duration": 1630,
    "start_time": "2024-11-09T21:13:45.808Z"
   },
   {
    "duration": 96,
    "start_time": "2024-11-09T21:13:47.440Z"
   },
   {
    "duration": 5,
    "start_time": "2024-11-09T21:13:47.538Z"
   },
   {
    "duration": 3,
    "start_time": "2024-11-09T21:13:47.545Z"
   },
   {
    "duration": 64,
    "start_time": "2024-11-09T21:13:47.550Z"
   },
   {
    "duration": 95,
    "start_time": "2024-11-09T21:13:47.617Z"
   },
   {
    "duration": 5,
    "start_time": "2024-11-09T21:13:47.714Z"
   },
   {
    "duration": 4,
    "start_time": "2024-11-09T21:13:47.722Z"
   },
   {
    "duration": 8,
    "start_time": "2024-11-09T21:13:47.728Z"
   },
   {
    "duration": 189,
    "start_time": "2024-11-09T21:13:47.738Z"
   },
   {
    "duration": 946,
    "start_time": "2024-11-09T21:14:29.808Z"
   },
   {
    "duration": 16,
    "start_time": "2024-11-09T21:14:30.757Z"
   },
   {
    "duration": 10,
    "start_time": "2024-11-09T21:14:30.775Z"
   },
   {
    "duration": 53,
    "start_time": "2024-11-09T21:14:30.787Z"
   },
   {
    "duration": 15,
    "start_time": "2024-11-09T21:14:30.844Z"
   },
   {
    "duration": 10,
    "start_time": "2024-11-09T21:14:30.861Z"
   },
   {
    "duration": 6,
    "start_time": "2024-11-09T21:14:30.873Z"
   },
   {
    "duration": 4,
    "start_time": "2024-11-09T21:14:30.880Z"
   },
   {
    "duration": 29,
    "start_time": "2024-11-09T21:14:30.885Z"
   },
   {
    "duration": 9,
    "start_time": "2024-11-09T21:14:30.915Z"
   },
   {
    "duration": 27,
    "start_time": "2024-11-09T21:14:30.925Z"
   },
   {
    "duration": 3,
    "start_time": "2024-11-09T21:14:30.953Z"
   },
   {
    "duration": 4,
    "start_time": "2024-11-09T21:14:30.958Z"
   },
   {
    "duration": 2,
    "start_time": "2024-11-09T21:14:30.966Z"
   },
   {
    "duration": 950,
    "start_time": "2024-11-09T21:14:30.970Z"
   },
   {
    "duration": 37,
    "start_time": "2024-11-09T21:14:31.922Z"
   },
   {
    "duration": 6,
    "start_time": "2024-11-09T21:14:31.960Z"
   },
   {
    "duration": 4,
    "start_time": "2024-11-09T21:14:31.969Z"
   },
   {
    "duration": 4,
    "start_time": "2024-11-09T21:14:31.975Z"
   },
   {
    "duration": 29,
    "start_time": "2024-11-09T21:14:31.981Z"
   },
   {
    "duration": 9,
    "start_time": "2024-11-09T21:14:32.011Z"
   },
   {
    "duration": 1757,
    "start_time": "2024-11-09T21:14:32.021Z"
   },
   {
    "duration": 49,
    "start_time": "2024-11-09T21:14:33.779Z"
   },
   {
    "duration": 6,
    "start_time": "2024-11-09T21:14:33.829Z"
   },
   {
    "duration": 4,
    "start_time": "2024-11-09T21:14:33.836Z"
   },
   {
    "duration": 8,
    "start_time": "2024-11-09T21:14:33.842Z"
   },
   {
    "duration": 677,
    "start_time": "2024-11-09T21:14:33.852Z"
   },
   {
    "duration": 34,
    "start_time": "2024-11-09T21:14:34.530Z"
   },
   {
    "duration": 6,
    "start_time": "2024-11-09T21:14:34.566Z"
   },
   {
    "duration": 50,
    "start_time": "2024-11-09T21:14:34.573Z"
   },
   {
    "duration": 5,
    "start_time": "2024-11-09T21:14:34.625Z"
   },
   {
    "duration": 4,
    "start_time": "2024-11-09T21:14:34.632Z"
   },
   {
    "duration": 4,
    "start_time": "2024-11-09T21:14:34.637Z"
   },
   {
    "duration": 181,
    "start_time": "2024-11-09T21:14:34.642Z"
   },
   {
    "duration": 941,
    "start_time": "2024-11-09T21:15:22.108Z"
   },
   {
    "duration": 17,
    "start_time": "2024-11-09T21:15:23.052Z"
   },
   {
    "duration": 11,
    "start_time": "2024-11-09T21:15:23.070Z"
   },
   {
    "duration": 43,
    "start_time": "2024-11-09T21:15:23.082Z"
   },
   {
    "duration": 16,
    "start_time": "2024-11-09T21:15:23.127Z"
   },
   {
    "duration": 10,
    "start_time": "2024-11-09T21:15:23.144Z"
   },
   {
    "duration": 6,
    "start_time": "2024-11-09T21:15:23.156Z"
   },
   {
    "duration": 5,
    "start_time": "2024-11-09T21:15:23.164Z"
   },
   {
    "duration": 6,
    "start_time": "2024-11-09T21:15:23.170Z"
   },
   {
    "duration": 10,
    "start_time": "2024-11-09T21:15:23.209Z"
   },
   {
    "duration": 27,
    "start_time": "2024-11-09T21:15:23.220Z"
   },
   {
    "duration": 3,
    "start_time": "2024-11-09T21:15:23.248Z"
   },
   {
    "duration": 4,
    "start_time": "2024-11-09T21:15:23.253Z"
   },
   {
    "duration": 2,
    "start_time": "2024-11-09T21:15:23.261Z"
   },
   {
    "duration": 951,
    "start_time": "2024-11-09T21:15:23.265Z"
   },
   {
    "duration": 37,
    "start_time": "2024-11-09T21:15:24.218Z"
   },
   {
    "duration": 6,
    "start_time": "2024-11-09T21:15:24.256Z"
   },
   {
    "duration": 4,
    "start_time": "2024-11-09T21:15:24.263Z"
   },
   {
    "duration": 4,
    "start_time": "2024-11-09T21:15:24.269Z"
   },
   {
    "duration": 4,
    "start_time": "2024-11-09T21:15:24.275Z"
   },
   {
    "duration": 7,
    "start_time": "2024-11-09T21:15:24.308Z"
   },
   {
    "duration": 1840,
    "start_time": "2024-11-09T21:15:24.317Z"
   },
   {
    "duration": 54,
    "start_time": "2024-11-09T21:15:26.159Z"
   },
   {
    "duration": 6,
    "start_time": "2024-11-09T21:15:26.215Z"
   },
   {
    "duration": 5,
    "start_time": "2024-11-09T21:15:26.222Z"
   },
   {
    "duration": 315,
    "start_time": "2024-11-09T21:15:26.228Z"
   },
   {
    "duration": 0,
    "start_time": "2024-11-09T21:15:26.545Z"
   },
   {
    "duration": 0,
    "start_time": "2024-11-09T21:15:26.546Z"
   },
   {
    "duration": 0,
    "start_time": "2024-11-09T21:15:26.548Z"
   },
   {
    "duration": 0,
    "start_time": "2024-11-09T21:15:26.549Z"
   },
   {
    "duration": 0,
    "start_time": "2024-11-09T21:15:26.550Z"
   },
   {
    "duration": 0,
    "start_time": "2024-11-09T21:15:26.551Z"
   },
   {
    "duration": 0,
    "start_time": "2024-11-09T21:15:26.553Z"
   },
   {
    "duration": 0,
    "start_time": "2024-11-09T21:15:26.554Z"
   },
   {
    "duration": 7,
    "start_time": "2024-11-09T21:15:34.279Z"
   },
   {
    "duration": 265,
    "start_time": "2024-11-09T21:15:35.340Z"
   },
   {
    "duration": 33,
    "start_time": "2024-11-09T21:15:35.622Z"
   },
   {
    "duration": 9,
    "start_time": "2024-11-09T21:15:36.039Z"
   },
   {
    "duration": 7,
    "start_time": "2024-11-09T21:15:56.755Z"
   },
   {
    "duration": 643,
    "start_time": "2024-11-09T21:15:56.979Z"
   },
   {
    "duration": 37,
    "start_time": "2024-11-09T21:15:57.624Z"
   },
   {
    "duration": 6,
    "start_time": "2024-11-09T21:15:57.663Z"
   },
   {
    "duration": 7,
    "start_time": "2024-11-09T21:16:01.215Z"
   },
   {
    "duration": 776,
    "start_time": "2024-11-09T21:16:01.486Z"
   },
   {
    "duration": 45,
    "start_time": "2024-11-09T21:16:02.264Z"
   },
   {
    "duration": 7,
    "start_time": "2024-11-09T21:16:02.311Z"
   },
   {
    "duration": 7,
    "start_time": "2024-11-09T21:16:08.023Z"
   },
   {
    "duration": 626,
    "start_time": "2024-11-09T21:16:08.277Z"
   },
   {
    "duration": 37,
    "start_time": "2024-11-09T21:16:08.908Z"
   },
   {
    "duration": 6,
    "start_time": "2024-11-09T21:16:08.960Z"
   },
   {
    "duration": 13,
    "start_time": "2024-11-09T21:16:52.970Z"
   },
   {
    "duration": 901,
    "start_time": "2024-11-09T21:16:58.358Z"
   },
   {
    "duration": 16,
    "start_time": "2024-11-09T21:16:59.261Z"
   },
   {
    "duration": 11,
    "start_time": "2024-11-09T21:16:59.278Z"
   },
   {
    "duration": 42,
    "start_time": "2024-11-09T21:16:59.291Z"
   },
   {
    "duration": 17,
    "start_time": "2024-11-09T21:16:59.335Z"
   },
   {
    "duration": 12,
    "start_time": "2024-11-09T21:16:59.353Z"
   },
   {
    "duration": 6,
    "start_time": "2024-11-09T21:16:59.367Z"
   },
   {
    "duration": 4,
    "start_time": "2024-11-09T21:16:59.375Z"
   },
   {
    "duration": 7,
    "start_time": "2024-11-09T21:16:59.409Z"
   },
   {
    "duration": 9,
    "start_time": "2024-11-09T21:16:59.418Z"
   },
   {
    "duration": 27,
    "start_time": "2024-11-09T21:16:59.428Z"
   },
   {
    "duration": 3,
    "start_time": "2024-11-09T21:16:59.457Z"
   },
   {
    "duration": 5,
    "start_time": "2024-11-09T21:16:59.462Z"
   },
   {
    "duration": 3,
    "start_time": "2024-11-09T21:16:59.469Z"
   },
   {
    "duration": 925,
    "start_time": "2024-11-09T21:16:59.509Z"
   },
   {
    "duration": 87,
    "start_time": "2024-11-09T21:17:00.436Z"
   },
   {
    "duration": 7,
    "start_time": "2024-11-09T21:17:00.526Z"
   },
   {
    "duration": 5,
    "start_time": "2024-11-09T21:17:00.534Z"
   },
   {
    "duration": 4,
    "start_time": "2024-11-09T21:17:00.540Z"
   },
   {
    "duration": 3,
    "start_time": "2024-11-09T21:17:00.546Z"
   },
   {
    "duration": 60,
    "start_time": "2024-11-09T21:17:00.551Z"
   },
   {
    "duration": 1638,
    "start_time": "2024-11-09T21:17:00.613Z"
   },
   {
    "duration": 39,
    "start_time": "2024-11-09T21:17:02.252Z"
   },
   {
    "duration": 18,
    "start_time": "2024-11-09T21:17:02.293Z"
   },
   {
    "duration": 3,
    "start_time": "2024-11-09T21:17:02.313Z"
   },
   {
    "duration": 8,
    "start_time": "2024-11-09T21:17:02.318Z"
   },
   {
    "duration": 1082,
    "start_time": "2024-11-09T21:17:02.328Z"
   },
   {
    "duration": 47,
    "start_time": "2024-11-09T21:17:03.415Z"
   },
   {
    "duration": 7,
    "start_time": "2024-11-09T21:17:03.464Z"
   },
   {
    "duration": 61,
    "start_time": "2024-11-09T21:17:03.473Z"
   },
   {
    "duration": 6,
    "start_time": "2024-11-09T21:17:03.536Z"
   },
   {
    "duration": 31,
    "start_time": "2024-11-09T21:17:03.543Z"
   },
   {
    "duration": 27,
    "start_time": "2024-11-09T21:17:03.575Z"
   },
   {
    "duration": 169,
    "start_time": "2024-11-09T21:17:03.604Z"
   },
   {
    "duration": 9,
    "start_time": "2024-11-09T21:17:13.404Z"
   },
   {
    "duration": 1319,
    "start_time": "2024-11-09T21:17:14.246Z"
   },
   {
    "duration": 45,
    "start_time": "2024-11-09T21:17:15.567Z"
   },
   {
    "duration": 6,
    "start_time": "2024-11-09T21:17:15.614Z"
   },
   {
    "duration": 8,
    "start_time": "2024-11-09T21:17:19.997Z"
   },
   {
    "duration": 1071,
    "start_time": "2024-11-09T21:17:20.261Z"
   },
   {
    "duration": 39,
    "start_time": "2024-11-09T21:17:21.334Z"
   },
   {
    "duration": 6,
    "start_time": "2024-11-09T21:17:21.374Z"
   },
   {
    "duration": 8,
    "start_time": "2024-11-09T21:17:26.068Z"
   },
   {
    "duration": 1009,
    "start_time": "2024-11-09T21:17:26.303Z"
   },
   {
    "duration": 43,
    "start_time": "2024-11-09T21:17:27.314Z"
   },
   {
    "duration": 8,
    "start_time": "2024-11-09T21:17:27.359Z"
   },
   {
    "duration": 881,
    "start_time": "2024-11-09T21:25:43.390Z"
   },
   {
    "duration": 34,
    "start_time": "2024-11-09T21:25:44.273Z"
   },
   {
    "duration": 11,
    "start_time": "2024-11-09T21:25:44.308Z"
   },
   {
    "duration": 29,
    "start_time": "2024-11-09T21:25:44.322Z"
   },
   {
    "duration": 16,
    "start_time": "2024-11-09T21:25:44.354Z"
   },
   {
    "duration": 10,
    "start_time": "2024-11-09T21:25:44.371Z"
   },
   {
    "duration": 30,
    "start_time": "2024-11-09T21:25:44.383Z"
   },
   {
    "duration": 4,
    "start_time": "2024-11-09T21:25:44.414Z"
   },
   {
    "duration": 7,
    "start_time": "2024-11-09T21:25:44.419Z"
   },
   {
    "duration": 8,
    "start_time": "2024-11-09T21:25:44.428Z"
   },
   {
    "duration": 25,
    "start_time": "2024-11-09T21:25:44.438Z"
   },
   {
    "duration": 3,
    "start_time": "2024-11-09T21:25:44.465Z"
   },
   {
    "duration": 5,
    "start_time": "2024-11-09T21:25:44.469Z"
   },
   {
    "duration": 2,
    "start_time": "2024-11-09T21:25:44.510Z"
   },
   {
    "duration": 940,
    "start_time": "2024-11-09T21:25:44.514Z"
   },
   {
    "duration": 37,
    "start_time": "2024-11-09T21:25:45.456Z"
   },
   {
    "duration": 14,
    "start_time": "2024-11-09T21:25:45.495Z"
   },
   {
    "duration": 5,
    "start_time": "2024-11-09T21:25:45.512Z"
   },
   {
    "duration": 4,
    "start_time": "2024-11-09T21:25:45.518Z"
   },
   {
    "duration": 3,
    "start_time": "2024-11-09T21:25:45.524Z"
   },
   {
    "duration": 8,
    "start_time": "2024-11-09T21:25:45.529Z"
   },
   {
    "duration": 1392,
    "start_time": "2024-11-09T21:25:45.539Z"
   },
   {
    "duration": 40,
    "start_time": "2024-11-09T21:25:46.932Z"
   },
   {
    "duration": 7,
    "start_time": "2024-11-09T21:25:46.974Z"
   },
   {
    "duration": 4,
    "start_time": "2024-11-09T21:25:46.983Z"
   },
   {
    "duration": 3,
    "start_time": "2024-11-09T21:25:47.009Z"
   },
   {
    "duration": 2,
    "start_time": "2024-11-09T21:25:47.015Z"
   },
   {
    "duration": 2,
    "start_time": "2024-11-09T21:25:47.019Z"
   },
   {
    "duration": 3,
    "start_time": "2024-11-09T21:25:47.023Z"
   },
   {
    "duration": 40,
    "start_time": "2024-11-09T21:25:47.027Z"
   },
   {
    "duration": 4,
    "start_time": "2024-11-09T21:25:47.068Z"
   },
   {
    "duration": 3,
    "start_time": "2024-11-09T21:25:47.074Z"
   },
   {
    "duration": 3,
    "start_time": "2024-11-09T21:25:47.109Z"
   },
   {
    "duration": 199,
    "start_time": "2024-11-09T21:25:47.114Z"
   },
   {
    "duration": 1730,
    "start_time": "2024-12-18T20:17:13.815Z"
   },
   {
    "duration": 72,
    "start_time": "2024-12-18T20:17:15.548Z"
   },
   {
    "duration": 11,
    "start_time": "2024-12-18T20:17:15.622Z"
   },
   {
    "duration": 86,
    "start_time": "2024-12-18T20:17:15.636Z"
   },
   {
    "duration": 15,
    "start_time": "2024-12-18T20:17:15.724Z"
   },
   {
    "duration": 71,
    "start_time": "2024-12-18T20:17:15.742Z"
   },
   {
    "duration": 7,
    "start_time": "2024-12-18T20:17:15.815Z"
   },
   {
    "duration": 4,
    "start_time": "2024-12-18T20:17:15.825Z"
   },
   {
    "duration": 7,
    "start_time": "2024-12-18T20:17:15.830Z"
   },
   {
    "duration": 71,
    "start_time": "2024-12-18T20:17:15.840Z"
   },
   {
    "duration": 34,
    "start_time": "2024-12-18T20:17:15.913Z"
   },
   {
    "duration": 4,
    "start_time": "2024-12-18T20:17:15.949Z"
   },
   {
    "duration": 62,
    "start_time": "2024-12-18T20:17:15.954Z"
   },
   {
    "duration": 3,
    "start_time": "2024-12-18T20:17:16.018Z"
   },
   {
    "duration": 1914,
    "start_time": "2024-12-18T20:17:16.022Z"
   },
   {
    "duration": 97,
    "start_time": "2024-12-18T20:17:17.938Z"
   },
   {
    "duration": 7,
    "start_time": "2024-12-18T20:17:18.039Z"
   },
   {
    "duration": 62,
    "start_time": "2024-12-18T20:17:18.049Z"
   },
   {
    "duration": 5,
    "start_time": "2024-12-18T20:17:18.113Z"
   },
   {
    "duration": 4,
    "start_time": "2024-12-18T20:17:18.119Z"
   },
   {
    "duration": 10,
    "start_time": "2024-12-18T20:17:18.125Z"
   },
   {
    "duration": 2911,
    "start_time": "2024-12-18T20:17:18.136Z"
   },
   {
    "duration": 95,
    "start_time": "2024-12-18T20:17:21.048Z"
   },
   {
    "duration": 7,
    "start_time": "2024-12-18T20:17:21.145Z"
   },
   {
    "duration": 58,
    "start_time": "2024-12-18T20:17:21.154Z"
   },
   {
    "duration": 3,
    "start_time": "2024-12-18T20:17:21.215Z"
   },
   {
    "duration": 2,
    "start_time": "2024-12-18T20:17:21.220Z"
   },
   {
    "duration": 3,
    "start_time": "2024-12-18T20:17:21.227Z"
   },
   {
    "duration": 2,
    "start_time": "2024-12-18T20:17:21.232Z"
   },
   {
    "duration": 114,
    "start_time": "2024-12-18T20:17:21.236Z"
   },
   {
    "duration": 60,
    "start_time": "2024-12-18T20:17:21.352Z"
   },
   {
    "duration": 4,
    "start_time": "2024-12-18T20:17:21.414Z"
   },
   {
    "duration": 4,
    "start_time": "2024-12-18T20:17:21.421Z"
   },
   {
    "duration": 396,
    "start_time": "2024-12-18T20:17:21.427Z"
   }
  ],
  "kernelspec": {
   "display_name": "Python 3 (ipykernel)",
   "language": "python",
   "name": "python3"
  },
  "language_info": {
   "codemirror_mode": {
    "name": "ipython",
    "version": 3
   },
   "file_extension": ".py",
   "mimetype": "text/x-python",
   "name": "python",
   "nbconvert_exporter": "python",
   "pygments_lexer": "ipython3",
   "version": "3.9.19"
  },
  "toc": {
   "base_numbering": 1,
   "nav_menu": {},
   "number_sections": true,
   "sideBar": true,
   "skip_h1_title": true,
   "title_cell": "Table of Contents",
   "title_sidebar": "Contents",
   "toc_cell": false,
   "toc_position": {
    "height": "calc(100% - 180px)",
    "left": "10px",
    "top": "150px",
    "width": "316.884px"
   },
   "toc_section_display": true,
   "toc_window_display": true
  }
 },
 "nbformat": 4,
 "nbformat_minor": 2
}
